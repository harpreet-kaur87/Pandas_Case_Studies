{
 "cells": [
  {
   "cell_type": "markdown",
   "id": "033ffc3c",
   "metadata": {},
   "source": [
    "### Dataset : https://www.kaggle.com/datasets/marusagar/bank-customer-attrition-insights"
   ]
  },
  {
   "cell_type": "markdown",
   "id": "b7202ce6",
   "metadata": {},
   "source": [
    "### Objective:\n",
    "The objective of this case study is to analyze customer attrition patterns in the banking sector using data-driven insights. By exploring customer demographics, account information, and transaction behavior, we aim to identify key factors influencing customer churn. This study will help in predicting potential attrition cases, enabling banks to take proactive measures to retain valuable customers and enhance customer experience."
   ]
  },
  {
   "cell_type": "markdown",
   "id": "3516793b",
   "metadata": {},
   "source": [
    "### Dataset Description:\n",
    "\n",
    "RowNumber: Index number of the record.\n",
    "\n",
    "CustomerId: Unique identifier for each customer.\n",
    "\n",
    "Surname: Customer’s last name.\n",
    "\n",
    "CreditScore: Customer's credit rating score.\n",
    "\n",
    "Geography: Country of residence.\n",
    "\n",
    "Gender: Customer’s gender.\n",
    "\n",
    "Age: Age of the customer.\n",
    "\n",
    "Tenure: Number of years the customer has been associated with the bank.\n",
    "\n",
    "Balance: Customer’s account balance.\n",
    "\n",
    "NumOfProducts: Number of bank products the customer is using.\n",
    "\n",
    "HasCrCard: Whether the customer owns a credit card (1 = Yes, 0 = No).\n",
    "\n",
    "IsActiveMember: Indicates if the customer is an active bank member (1 = Yes, 0 = No).\n",
    "\n",
    "EstimatedSalary: Customer’s estimated salary.\n",
    "\n",
    "Exited: Target variable (1 = Customer has left, 0 = Customer remains with the bank).\n",
    "\n",
    "Complain: Whether the customer has filed any complaints (1 = Yes, 0 = No).\n",
    "\n",
    "Satisfaction Score: A score indicating customer satisfaction (scale of 1-5).\n",
    "\n",
    "Card Type: Type of credit card owned by the customer (e.g., Gold, Platinum, Silver).\n",
    "\n",
    "Point Earned: Loyalty points earned by the customer based on transactions."
   ]
  },
  {
   "cell_type": "code",
   "execution_count": 49,
   "id": "31857400",
   "metadata": {},
   "outputs": [],
   "source": [
    "import pandas as pd\n",
    "import seaborn as sns\n",
    "import matplotlib.pyplot as plt"
   ]
  },
  {
   "cell_type": "markdown",
   "id": "a40f0b9d",
   "metadata": {},
   "source": [
    "### Load the dataset into a Pandas DataFrame."
   ]
  },
  {
   "cell_type": "code",
   "execution_count": 2,
   "id": "e0cb5142",
   "metadata": {},
   "outputs": [],
   "source": [
    "df = pd.read_csv('Bank_Customer_Attrition_Insights_Data.csv')"
   ]
  },
  {
   "cell_type": "markdown",
   "id": "b3eba6ff",
   "metadata": {},
   "source": [
    "### Display the first five rows of the dataset."
   ]
  },
  {
   "cell_type": "code",
   "execution_count": 3,
   "id": "40a7276a",
   "metadata": {},
   "outputs": [
    {
     "data": {
      "text/html": [
       "<div>\n",
       "<style scoped>\n",
       "    .dataframe tbody tr th:only-of-type {\n",
       "        vertical-align: middle;\n",
       "    }\n",
       "\n",
       "    .dataframe tbody tr th {\n",
       "        vertical-align: top;\n",
       "    }\n",
       "\n",
       "    .dataframe thead th {\n",
       "        text-align: right;\n",
       "    }\n",
       "</style>\n",
       "<table border=\"1\" class=\"dataframe\">\n",
       "  <thead>\n",
       "    <tr style=\"text-align: right;\">\n",
       "      <th></th>\n",
       "      <th>RowNumber</th>\n",
       "      <th>CustomerId</th>\n",
       "      <th>Surname</th>\n",
       "      <th>CreditScore</th>\n",
       "      <th>Geography</th>\n",
       "      <th>Gender</th>\n",
       "      <th>Age</th>\n",
       "      <th>Tenure</th>\n",
       "      <th>Balance</th>\n",
       "      <th>NumOfProducts</th>\n",
       "      <th>HasCrCard</th>\n",
       "      <th>IsActiveMember</th>\n",
       "      <th>EstimatedSalary</th>\n",
       "      <th>Exited</th>\n",
       "      <th>Complain</th>\n",
       "      <th>Satisfaction Score</th>\n",
       "      <th>Card Type</th>\n",
       "      <th>Point Earned</th>\n",
       "    </tr>\n",
       "  </thead>\n",
       "  <tbody>\n",
       "    <tr>\n",
       "      <th>0</th>\n",
       "      <td>1</td>\n",
       "      <td>15598695</td>\n",
       "      <td>Fields</td>\n",
       "      <td>619</td>\n",
       "      <td>France</td>\n",
       "      <td>Female</td>\n",
       "      <td>42</td>\n",
       "      <td>2</td>\n",
       "      <td>0.00</td>\n",
       "      <td>1</td>\n",
       "      <td>1</td>\n",
       "      <td>1</td>\n",
       "      <td>101348.88</td>\n",
       "      <td>1</td>\n",
       "      <td>1</td>\n",
       "      <td>2</td>\n",
       "      <td>DIAMOND</td>\n",
       "      <td>464</td>\n",
       "    </tr>\n",
       "    <tr>\n",
       "      <th>1</th>\n",
       "      <td>2</td>\n",
       "      <td>15649354</td>\n",
       "      <td>Johnston</td>\n",
       "      <td>608</td>\n",
       "      <td>Spain</td>\n",
       "      <td>Female</td>\n",
       "      <td>41</td>\n",
       "      <td>1</td>\n",
       "      <td>83807.86</td>\n",
       "      <td>1</td>\n",
       "      <td>0</td>\n",
       "      <td>1</td>\n",
       "      <td>112542.58</td>\n",
       "      <td>0</td>\n",
       "      <td>1</td>\n",
       "      <td>3</td>\n",
       "      <td>DIAMOND</td>\n",
       "      <td>456</td>\n",
       "    </tr>\n",
       "    <tr>\n",
       "      <th>2</th>\n",
       "      <td>3</td>\n",
       "      <td>15737556</td>\n",
       "      <td>Vasilyev</td>\n",
       "      <td>502</td>\n",
       "      <td>France</td>\n",
       "      <td>Female</td>\n",
       "      <td>42</td>\n",
       "      <td>8</td>\n",
       "      <td>159660.80</td>\n",
       "      <td>3</td>\n",
       "      <td>1</td>\n",
       "      <td>0</td>\n",
       "      <td>113931.57</td>\n",
       "      <td>1</td>\n",
       "      <td>1</td>\n",
       "      <td>3</td>\n",
       "      <td>DIAMOND</td>\n",
       "      <td>377</td>\n",
       "    </tr>\n",
       "    <tr>\n",
       "      <th>3</th>\n",
       "      <td>4</td>\n",
       "      <td>15671610</td>\n",
       "      <td>Hooper</td>\n",
       "      <td>699</td>\n",
       "      <td>France</td>\n",
       "      <td>Female</td>\n",
       "      <td>39</td>\n",
       "      <td>1</td>\n",
       "      <td>0.00</td>\n",
       "      <td>2</td>\n",
       "      <td>0</td>\n",
       "      <td>0</td>\n",
       "      <td>93826.63</td>\n",
       "      <td>0</td>\n",
       "      <td>0</td>\n",
       "      <td>5</td>\n",
       "      <td>GOLD</td>\n",
       "      <td>350</td>\n",
       "    </tr>\n",
       "    <tr>\n",
       "      <th>4</th>\n",
       "      <td>5</td>\n",
       "      <td>15625092</td>\n",
       "      <td>Colombo</td>\n",
       "      <td>850</td>\n",
       "      <td>Spain</td>\n",
       "      <td>Female</td>\n",
       "      <td>43</td>\n",
       "      <td>2</td>\n",
       "      <td>125510.82</td>\n",
       "      <td>1</td>\n",
       "      <td>1</td>\n",
       "      <td>1</td>\n",
       "      <td>79084.10</td>\n",
       "      <td>0</td>\n",
       "      <td>0</td>\n",
       "      <td>5</td>\n",
       "      <td>GOLD</td>\n",
       "      <td>425</td>\n",
       "    </tr>\n",
       "  </tbody>\n",
       "</table>\n",
       "</div>"
      ],
      "text/plain": [
       "   RowNumber  CustomerId   Surname  CreditScore Geography  Gender  Age  \\\n",
       "0          1    15598695    Fields          619    France  Female   42   \n",
       "1          2    15649354  Johnston          608     Spain  Female   41   \n",
       "2          3    15737556  Vasilyev          502    France  Female   42   \n",
       "3          4    15671610    Hooper          699    France  Female   39   \n",
       "4          5    15625092   Colombo          850     Spain  Female   43   \n",
       "\n",
       "   Tenure    Balance  NumOfProducts  HasCrCard  IsActiveMember  \\\n",
       "0       2       0.00              1          1               1   \n",
       "1       1   83807.86              1          0               1   \n",
       "2       8  159660.80              3          1               0   \n",
       "3       1       0.00              2          0               0   \n",
       "4       2  125510.82              1          1               1   \n",
       "\n",
       "   EstimatedSalary  Exited  Complain  Satisfaction Score Card Type  \\\n",
       "0        101348.88       1         1                   2   DIAMOND   \n",
       "1        112542.58       0         1                   3   DIAMOND   \n",
       "2        113931.57       1         1                   3   DIAMOND   \n",
       "3         93826.63       0         0                   5      GOLD   \n",
       "4         79084.10       0         0                   5      GOLD   \n",
       "\n",
       "   Point Earned  \n",
       "0           464  \n",
       "1           456  \n",
       "2           377  \n",
       "3           350  \n",
       "4           425  "
      ]
     },
     "execution_count": 3,
     "metadata": {},
     "output_type": "execute_result"
    }
   ],
   "source": [
    "df.head()"
   ]
  },
  {
   "cell_type": "markdown",
   "id": "5c2e6c38",
   "metadata": {},
   "source": [
    "### Check the shape of the dataset (number of rows and columns)."
   ]
  },
  {
   "cell_type": "code",
   "execution_count": 4,
   "id": "58607832",
   "metadata": {},
   "outputs": [
    {
     "data": {
      "text/plain": [
       "(10000, 18)"
      ]
     },
     "execution_count": 4,
     "metadata": {},
     "output_type": "execute_result"
    }
   ],
   "source": [
    "df.shape"
   ]
  },
  {
   "cell_type": "markdown",
   "id": "8c70309e",
   "metadata": {},
   "source": [
    "### Retrieve the column names."
   ]
  },
  {
   "cell_type": "code",
   "execution_count": 5,
   "id": "9a61f1a7",
   "metadata": {},
   "outputs": [
    {
     "data": {
      "text/plain": [
       "Index(['RowNumber', 'CustomerId', 'Surname', 'CreditScore', 'Geography',\n",
       "       'Gender', 'Age', 'Tenure', 'Balance', 'NumOfProducts', 'HasCrCard',\n",
       "       'IsActiveMember', 'EstimatedSalary', 'Exited', 'Complain',\n",
       "       'Satisfaction Score', 'Card Type', 'Point Earned'],\n",
       "      dtype='object')"
      ]
     },
     "execution_count": 5,
     "metadata": {},
     "output_type": "execute_result"
    }
   ],
   "source": [
    "df.columns"
   ]
  },
  {
   "cell_type": "markdown",
   "id": "a37e3db3",
   "metadata": {},
   "source": [
    "### Identify missing values in the dataset."
   ]
  },
  {
   "cell_type": "code",
   "execution_count": 6,
   "id": "ebf4eeed",
   "metadata": {},
   "outputs": [
    {
     "data": {
      "text/plain": [
       "RowNumber             0\n",
       "CustomerId            0\n",
       "Surname               0\n",
       "CreditScore           0\n",
       "Geography             0\n",
       "Gender                0\n",
       "Age                   0\n",
       "Tenure                0\n",
       "Balance               0\n",
       "NumOfProducts         0\n",
       "HasCrCard             0\n",
       "IsActiveMember        0\n",
       "EstimatedSalary       0\n",
       "Exited                0\n",
       "Complain              0\n",
       "Satisfaction Score    0\n",
       "Card Type             0\n",
       "Point Earned          0\n",
       "dtype: int64"
      ]
     },
     "execution_count": 6,
     "metadata": {},
     "output_type": "execute_result"
    }
   ],
   "source": [
    "df.isnull().sum()"
   ]
  },
  {
   "cell_type": "markdown",
   "id": "da09b613",
   "metadata": {},
   "source": [
    "### Get the summary statistics of numerical columns."
   ]
  },
  {
   "cell_type": "code",
   "execution_count": 7,
   "id": "1598ba59",
   "metadata": {},
   "outputs": [
    {
     "data": {
      "text/html": [
       "<div>\n",
       "<style scoped>\n",
       "    .dataframe tbody tr th:only-of-type {\n",
       "        vertical-align: middle;\n",
       "    }\n",
       "\n",
       "    .dataframe tbody tr th {\n",
       "        vertical-align: top;\n",
       "    }\n",
       "\n",
       "    .dataframe thead th {\n",
       "        text-align: right;\n",
       "    }\n",
       "</style>\n",
       "<table border=\"1\" class=\"dataframe\">\n",
       "  <thead>\n",
       "    <tr style=\"text-align: right;\">\n",
       "      <th></th>\n",
       "      <th>RowNumber</th>\n",
       "      <th>CustomerId</th>\n",
       "      <th>CreditScore</th>\n",
       "      <th>Age</th>\n",
       "      <th>Tenure</th>\n",
       "      <th>Balance</th>\n",
       "      <th>NumOfProducts</th>\n",
       "      <th>HasCrCard</th>\n",
       "      <th>IsActiveMember</th>\n",
       "      <th>EstimatedSalary</th>\n",
       "      <th>Exited</th>\n",
       "      <th>Complain</th>\n",
       "      <th>Satisfaction Score</th>\n",
       "      <th>Point Earned</th>\n",
       "    </tr>\n",
       "  </thead>\n",
       "  <tbody>\n",
       "    <tr>\n",
       "      <th>count</th>\n",
       "      <td>10000.00000</td>\n",
       "      <td>1.000000e+04</td>\n",
       "      <td>10000.000000</td>\n",
       "      <td>10000.000000</td>\n",
       "      <td>10000.000000</td>\n",
       "      <td>10000.000000</td>\n",
       "      <td>10000.000000</td>\n",
       "      <td>10000.00000</td>\n",
       "      <td>10000.000000</td>\n",
       "      <td>10000.000000</td>\n",
       "      <td>10000.000000</td>\n",
       "      <td>10000.000000</td>\n",
       "      <td>10000.000000</td>\n",
       "      <td>10000.000000</td>\n",
       "    </tr>\n",
       "    <tr>\n",
       "      <th>mean</th>\n",
       "      <td>5000.50000</td>\n",
       "      <td>1.569094e+07</td>\n",
       "      <td>650.528800</td>\n",
       "      <td>38.921800</td>\n",
       "      <td>5.012800</td>\n",
       "      <td>76485.889288</td>\n",
       "      <td>1.530200</td>\n",
       "      <td>0.70550</td>\n",
       "      <td>0.515100</td>\n",
       "      <td>100090.239881</td>\n",
       "      <td>0.203800</td>\n",
       "      <td>0.204400</td>\n",
       "      <td>3.013800</td>\n",
       "      <td>606.515100</td>\n",
       "    </tr>\n",
       "    <tr>\n",
       "      <th>std</th>\n",
       "      <td>2886.89568</td>\n",
       "      <td>7.193619e+04</td>\n",
       "      <td>96.653299</td>\n",
       "      <td>10.487806</td>\n",
       "      <td>2.892174</td>\n",
       "      <td>62397.405202</td>\n",
       "      <td>0.581654</td>\n",
       "      <td>0.45584</td>\n",
       "      <td>0.499797</td>\n",
       "      <td>57510.492818</td>\n",
       "      <td>0.402842</td>\n",
       "      <td>0.403283</td>\n",
       "      <td>1.405919</td>\n",
       "      <td>225.924839</td>\n",
       "    </tr>\n",
       "    <tr>\n",
       "      <th>min</th>\n",
       "      <td>1.00000</td>\n",
       "      <td>1.556570e+07</td>\n",
       "      <td>350.000000</td>\n",
       "      <td>18.000000</td>\n",
       "      <td>0.000000</td>\n",
       "      <td>0.000000</td>\n",
       "      <td>1.000000</td>\n",
       "      <td>0.00000</td>\n",
       "      <td>0.000000</td>\n",
       "      <td>11.580000</td>\n",
       "      <td>0.000000</td>\n",
       "      <td>0.000000</td>\n",
       "      <td>1.000000</td>\n",
       "      <td>119.000000</td>\n",
       "    </tr>\n",
       "    <tr>\n",
       "      <th>25%</th>\n",
       "      <td>2500.75000</td>\n",
       "      <td>1.562853e+07</td>\n",
       "      <td>584.000000</td>\n",
       "      <td>32.000000</td>\n",
       "      <td>3.000000</td>\n",
       "      <td>0.000000</td>\n",
       "      <td>1.000000</td>\n",
       "      <td>0.00000</td>\n",
       "      <td>0.000000</td>\n",
       "      <td>51002.110000</td>\n",
       "      <td>0.000000</td>\n",
       "      <td>0.000000</td>\n",
       "      <td>2.000000</td>\n",
       "      <td>410.000000</td>\n",
       "    </tr>\n",
       "    <tr>\n",
       "      <th>50%</th>\n",
       "      <td>5000.50000</td>\n",
       "      <td>1.569074e+07</td>\n",
       "      <td>652.000000</td>\n",
       "      <td>37.000000</td>\n",
       "      <td>5.000000</td>\n",
       "      <td>97198.540000</td>\n",
       "      <td>1.000000</td>\n",
       "      <td>1.00000</td>\n",
       "      <td>1.000000</td>\n",
       "      <td>100193.915000</td>\n",
       "      <td>0.000000</td>\n",
       "      <td>0.000000</td>\n",
       "      <td>3.000000</td>\n",
       "      <td>605.000000</td>\n",
       "    </tr>\n",
       "    <tr>\n",
       "      <th>75%</th>\n",
       "      <td>7500.25000</td>\n",
       "      <td>1.575323e+07</td>\n",
       "      <td>718.000000</td>\n",
       "      <td>44.000000</td>\n",
       "      <td>7.000000</td>\n",
       "      <td>127644.240000</td>\n",
       "      <td>2.000000</td>\n",
       "      <td>1.00000</td>\n",
       "      <td>1.000000</td>\n",
       "      <td>149388.247500</td>\n",
       "      <td>0.000000</td>\n",
       "      <td>0.000000</td>\n",
       "      <td>4.000000</td>\n",
       "      <td>801.000000</td>\n",
       "    </tr>\n",
       "    <tr>\n",
       "      <th>max</th>\n",
       "      <td>10000.00000</td>\n",
       "      <td>1.581569e+07</td>\n",
       "      <td>850.000000</td>\n",
       "      <td>92.000000</td>\n",
       "      <td>10.000000</td>\n",
       "      <td>250898.090000</td>\n",
       "      <td>4.000000</td>\n",
       "      <td>1.00000</td>\n",
       "      <td>1.000000</td>\n",
       "      <td>199992.480000</td>\n",
       "      <td>1.000000</td>\n",
       "      <td>1.000000</td>\n",
       "      <td>5.000000</td>\n",
       "      <td>1000.000000</td>\n",
       "    </tr>\n",
       "  </tbody>\n",
       "</table>\n",
       "</div>"
      ],
      "text/plain": [
       "         RowNumber    CustomerId   CreditScore           Age        Tenure  \\\n",
       "count  10000.00000  1.000000e+04  10000.000000  10000.000000  10000.000000   \n",
       "mean    5000.50000  1.569094e+07    650.528800     38.921800      5.012800   \n",
       "std     2886.89568  7.193619e+04     96.653299     10.487806      2.892174   \n",
       "min        1.00000  1.556570e+07    350.000000     18.000000      0.000000   \n",
       "25%     2500.75000  1.562853e+07    584.000000     32.000000      3.000000   \n",
       "50%     5000.50000  1.569074e+07    652.000000     37.000000      5.000000   \n",
       "75%     7500.25000  1.575323e+07    718.000000     44.000000      7.000000   \n",
       "max    10000.00000  1.581569e+07    850.000000     92.000000     10.000000   \n",
       "\n",
       "             Balance  NumOfProducts    HasCrCard  IsActiveMember  \\\n",
       "count   10000.000000   10000.000000  10000.00000    10000.000000   \n",
       "mean    76485.889288       1.530200      0.70550        0.515100   \n",
       "std     62397.405202       0.581654      0.45584        0.499797   \n",
       "min         0.000000       1.000000      0.00000        0.000000   \n",
       "25%         0.000000       1.000000      0.00000        0.000000   \n",
       "50%     97198.540000       1.000000      1.00000        1.000000   \n",
       "75%    127644.240000       2.000000      1.00000        1.000000   \n",
       "max    250898.090000       4.000000      1.00000        1.000000   \n",
       "\n",
       "       EstimatedSalary        Exited      Complain  Satisfaction Score  \\\n",
       "count     10000.000000  10000.000000  10000.000000        10000.000000   \n",
       "mean     100090.239881      0.203800      0.204400            3.013800   \n",
       "std       57510.492818      0.402842      0.403283            1.405919   \n",
       "min          11.580000      0.000000      0.000000            1.000000   \n",
       "25%       51002.110000      0.000000      0.000000            2.000000   \n",
       "50%      100193.915000      0.000000      0.000000            3.000000   \n",
       "75%      149388.247500      0.000000      0.000000            4.000000   \n",
       "max      199992.480000      1.000000      1.000000            5.000000   \n",
       "\n",
       "       Point Earned  \n",
       "count  10000.000000  \n",
       "mean     606.515100  \n",
       "std      225.924839  \n",
       "min      119.000000  \n",
       "25%      410.000000  \n",
       "50%      605.000000  \n",
       "75%      801.000000  \n",
       "max     1000.000000  "
      ]
     },
     "execution_count": 7,
     "metadata": {},
     "output_type": "execute_result"
    }
   ],
   "source": [
    "df.describe()"
   ]
  },
  {
   "cell_type": "markdown",
   "id": "73049647",
   "metadata": {},
   "source": [
    "### Count the total number of customers in the dataset."
   ]
  },
  {
   "cell_type": "code",
   "execution_count": 8,
   "id": "ef4efd15",
   "metadata": {},
   "outputs": [
    {
     "data": {
      "text/plain": [
       "10000"
      ]
     },
     "execution_count": 8,
     "metadata": {},
     "output_type": "execute_result"
    }
   ],
   "source": [
    "total_customers = len(df['CustomerId'])\n",
    "total_customers"
   ]
  },
  {
   "cell_type": "markdown",
   "id": "0d7fa076",
   "metadata": {},
   "source": [
    "### Identify the number of unique customer locations (geographies)."
   ]
  },
  {
   "cell_type": "code",
   "execution_count": 9,
   "id": "9e9c2878",
   "metadata": {},
   "outputs": [
    {
     "data": {
      "text/plain": [
       "3"
      ]
     },
     "execution_count": 9,
     "metadata": {},
     "output_type": "execute_result"
    }
   ],
   "source": [
    "unique_locations = df['Geography'].nunique()\n",
    "unique_locations"
   ]
  },
  {
   "cell_type": "markdown",
   "id": "c3b6f415",
   "metadata": {},
   "source": [
    "### Determine the geography with the highest number of customers."
   ]
  },
  {
   "cell_type": "code",
   "execution_count": 10,
   "id": "de66cab4",
   "metadata": {},
   "outputs": [
    {
     "data": {
      "text/plain": [
       "Geography\n",
       "France     5014\n",
       "Germany    2509\n",
       "Spain      2477\n",
       "Name: CustomerId, dtype: int64"
      ]
     },
     "execution_count": 10,
     "metadata": {},
     "output_type": "execute_result"
    }
   ],
   "source": [
    "no_of_customers = df.groupby('Geography')['CustomerId'].count()\n",
    "no_of_customers"
   ]
  },
  {
   "cell_type": "code",
   "execution_count": 52,
   "id": "b62bcfcf",
   "metadata": {},
   "outputs": [
    {
     "data": {
      "image/png": "[encoded data removed]",
      "text/plain": [
       "<Figure size 300x300 with 1 Axes>"
      ]
     },
     "metadata": {},
     "output_type": "display_data"
    }
   ],
   "source": [
    "plt.figure(figsize=(3, 3))\n",
    "plt.pie(\n",
    "    no_of_customers, labels=no_of_customers.index, autopct=\"%1.1f%%\",\n",
    "    colors=sns.color_palette(\"pastel\"), startangle=140, wedgeprops={\"edgecolor\": \"black\"}\n",
    ")\n",
    "plt.title(\"Customer Distribution Across Geographies\")\n",
    "\n",
    "plt.show()"
   ]
  },
  {
   "cell_type": "markdown",
   "id": "4c8e07a9",
   "metadata": {},
   "source": [
    "### Compute the gender distribution of customers."
   ]
  },
  {
   "cell_type": "code",
   "execution_count": 11,
   "id": "9a71b5fa",
   "metadata": {},
   "outputs": [
    {
     "data": {
      "text/plain": [
       "Male      5457\n",
       "Female    4543\n",
       "Name: Gender, dtype: int64"
      ]
     },
     "execution_count": 11,
     "metadata": {},
     "output_type": "execute_result"
    }
   ],
   "source": [
    "gender_dist = df['Gender'].value_counts()\n",
    "gender_dist"
   ]
  },
  {
   "cell_type": "markdown",
   "id": "32f55f65",
   "metadata": {},
   "source": [
    "### How many customers have exited the bank?"
   ]
  },
  {
   "cell_type": "code",
   "execution_count": 12,
   "id": "690d912e",
   "metadata": {},
   "outputs": [
    {
     "data": {
      "text/plain": [
       "0    7962\n",
       "1    2038\n",
       "Name: Exited, dtype: int64"
      ]
     },
     "execution_count": 12,
     "metadata": {},
     "output_type": "execute_result"
    }
   ],
   "source": [
    "churn_ratio = df['Exited'].value_counts()\n",
    "churn_ratio"
   ]
  },
  {
   "cell_type": "code",
   "execution_count": 53,
   "id": "7cc2052f",
   "metadata": {},
   "outputs": [
    {
     "data": {
      "text/plain": [
       "<Axes: xlabel='Exited', ylabel='count'>"
      ]
     },
     "execution_count": 53,
     "metadata": {},
     "output_type": "execute_result"
    },
    {
     "data": {
      "image/png": "[encoded data removed]",
      "text/plain": [
       "<Figure size 640x480 with 1 Axes>"
      ]
     },
     "metadata": {},
     "output_type": "display_data"
    }
   ],
   "source": [
    "sns.countplot(x='Exited',data=df)"
   ]
  },
  {
   "cell_type": "markdown",
   "id": "65a590b3",
   "metadata": {},
   "source": [
    "### Calculate the overall churn rate in the dataset."
   ]
  },
  {
   "cell_type": "code",
   "execution_count": 13,
   "id": "8ed26c18",
   "metadata": {},
   "outputs": [
    {
     "data": {
      "text/plain": [
       "20.380000000000003"
      ]
     },
     "execution_count": 13,
     "metadata": {},
     "output_type": "execute_result"
    }
   ],
   "source": [
    "new_df = len(df[df['Exited'] == 1])\n",
    "df_count = df['CustomerId'].count()\n",
    "churn_rate = new_df / df_count * 100\n",
    "churn_rate"
   ]
  },
  {
   "cell_type": "markdown",
   "id": "f7ed8154",
   "metadata": {},
   "source": [
    "### Find the proportion of male and female customers who have exited the bank."
   ]
  },
  {
   "cell_type": "code",
   "execution_count": 14,
   "id": "c5faba26",
   "metadata": {},
   "outputs": [
    {
     "data": {
      "text/plain": [
       "Female    1139\n",
       "Male       899\n",
       "Name: Gender, dtype: int64"
      ]
     },
     "execution_count": 14,
     "metadata": {},
     "output_type": "execute_result"
    }
   ],
   "source": [
    "new_df = df[df['Exited'] == 1]\n",
    "male_female_ratio = new_df['Gender'].value_counts()\n",
    "male_female_ratio"
   ]
  },
  {
   "cell_type": "code",
   "execution_count": 15,
   "id": "3a38173c",
   "metadata": {},
   "outputs": [
    {
     "data": {
      "text/plain": [
       "Female    0.558881\n",
       "Male      0.441119\n",
       "Name: Gender, dtype: float64"
      ]
     },
     "execution_count": 15,
     "metadata": {},
     "output_type": "execute_result"
    }
   ],
   "source": [
    "proportion = male_female_ratio / male_female_ratio.sum()\n",
    "proportion"
   ]
  },
  {
   "cell_type": "code",
   "execution_count": 54,
   "id": "f5c152fd",
   "metadata": {},
   "outputs": [
    {
     "data": {
      "text/plain": [
       "<Axes: xlabel='Gender', ylabel='count'>"
      ]
     },
     "execution_count": 54,
     "metadata": {},
     "output_type": "execute_result"
    },
    {
     "data": {
      "image/png": "[encoded data removed]",
      "text/plain": [
       "<Figure size 640x480 with 1 Axes>"
      ]
     },
     "metadata": {},
     "output_type": "display_data"
    }
   ],
   "source": [
    "sns.countplot(x='Gender', hue='Exited', data=df)"
   ]
  },
  {
   "cell_type": "markdown",
   "id": "9f420251",
   "metadata": {},
   "source": [
    "### Compare the churn rate across different geographical locations."
   ]
  },
  {
   "cell_type": "code",
   "execution_count": 16,
   "id": "36910584",
   "metadata": {},
   "outputs": [
    {
     "data": {
      "text/plain": [
       "Geography\n",
       "France     16.174711\n",
       "Germany    32.443204\n",
       "Spain      16.673395\n",
       "Name: CustomerId, dtype: float64"
      ]
     },
     "execution_count": 16,
     "metadata": {},
     "output_type": "execute_result"
    }
   ],
   "source": [
    "new_df = df[df['Exited'] == 1]\n",
    "exited_customers = new_df.groupby('Geography')['CustomerId'].count()\n",
    "total_customers = df.groupby('Geography')['CustomerId'].count()\n",
    "churn_rate = exited_customers / total_customers * 100\n",
    "churn_rate"
   ]
  },
  {
   "cell_type": "markdown",
   "id": "6450a318",
   "metadata": {},
   "source": [
    "### Identify which age group has the highest churn rate."
   ]
  },
  {
   "cell_type": "code",
   "execution_count": 17,
   "id": "50e084da",
   "metadata": {},
   "outputs": [],
   "source": [
    "def grouping_age(age):\n",
    "    \n",
    "    if age < 25:\n",
    "        return f'18-25'\n",
    "    elif age < 35:\n",
    "        return f'25-35'\n",
    "    elif age < 45:\n",
    "        return f'35-45'\n",
    "    elif age < 55:\n",
    "        return f'45-55'\n",
    "    else:\n",
    "        return f'55-Above'"
   ]
  },
  {
   "cell_type": "code",
   "execution_count": 18,
   "id": "c2186654",
   "metadata": {},
   "outputs": [],
   "source": [
    "df['Age_Group'] = df['Age'].apply(grouping_age)"
   ]
  },
  {
   "cell_type": "code",
   "execution_count": 19,
   "id": "197c3d4a",
   "metadata": {},
   "outputs": [
    {
     "data": {
      "text/plain": [
       "Age_Group\n",
       "18-25        8.752735\n",
       "25-35        7.759156\n",
       "35-45       17.683999\n",
       "45-55       48.148148\n",
       "55-Above    38.775510\n",
       "Name: CustomerId, dtype: float64"
      ]
     },
     "execution_count": 19,
     "metadata": {},
     "output_type": "execute_result"
    }
   ],
   "source": [
    "new_df = df[df['Exited'] == 1]\n",
    "age_group_churn = new_df.groupby('Age_Group')['CustomerId'].count()\n",
    "total_customers = df.groupby('Age_Group')['CustomerId'].count()\n",
    "churn_rate = age_group_churn / total_customers * 100\n",
    "churn_rate"
   ]
  },
  {
   "cell_type": "code",
   "execution_count": 48,
   "id": "6740f900",
   "metadata": {},
   "outputs": [
    {
     "data": {
      "text/plain": [
       "<Axes: xlabel='Age_Group', ylabel='count'>"
      ]
     },
     "execution_count": 48,
     "metadata": {},
     "output_type": "execute_result"
    },
    {
     "data": {
      "image/png": "[encoded data removed]",
      "text/plain": [
       "<Figure size 640x480 with 1 Axes>"
      ]
     },
     "metadata": {},
     "output_type": "display_data"
    }
   ],
   "source": [
    "sns.countplot(x='Age_Group', hue='Exited', data=df)"
   ]
  },
  {
   "cell_type": "markdown",
   "id": "4e2dc2a9",
   "metadata": {},
   "source": [
    "### Find the average credit score of customers who have exited the bank vs. those who have stayed."
   ]
  },
  {
   "cell_type": "code",
   "execution_count": 20,
   "id": "add522cc",
   "metadata": {},
   "outputs": [
    {
     "name": "stdout",
     "output_type": "stream",
     "text": [
      "Average credit score of customers who have exited the bank is 645.4146221786065\n",
      "Average credit score of customers who have stayed with the bank is 651.8378548103492\n"
     ]
    }
   ],
   "source": [
    "exited_customers = df[df['Exited'] == 1]['CreditScore'].mean()\n",
    "stayed_customers = df[df['Exited'] == 0]['CreditScore'].mean()\n",
    "\n",
    "print(f'Average credit score of customers who have exited the bank is {exited_customers}')\n",
    "print(f'Average credit score of customers who have stayed with the bank is {stayed_customers}')"
   ]
  },
  {
   "cell_type": "markdown",
   "id": "bcc2d222",
   "metadata": {},
   "source": [
    "### Compare churn rates based on tenure to determine if long-term customers are more likely to stay."
   ]
  },
  {
   "cell_type": "code",
   "execution_count": 21,
   "id": "c5cb05b6",
   "metadata": {},
   "outputs": [
    {
     "data": {
      "text/plain": [
       "Tenure\n",
       "0     23.002421\n",
       "1     22.415459\n",
       "2     19.179389\n",
       "3     21.110010\n",
       "4     20.525784\n",
       "5     20.652174\n",
       "6     20.268873\n",
       "7     17.217899\n",
       "8     19.219512\n",
       "9     21.747967\n",
       "10    20.612245\n",
       "Name: CustomerId, dtype: float64"
      ]
     },
     "execution_count": 21,
     "metadata": {},
     "output_type": "execute_result"
    }
   ],
   "source": [
    "new_df = df[df['Exited'] == 1]\n",
    "tenure_based_churn = new_df.groupby('Tenure')['CustomerId'].count()\n",
    "total_customers = df.groupby('Tenure')['CustomerId'].count()\n",
    "churn_rate = tenure_based_churn / total_customers * 100\n",
    "churn_rate"
   ]
  },
  {
   "cell_type": "markdown",
   "id": "06692900",
   "metadata": {},
   "source": [
    "### Determine if having a credit card impacts customer attrition."
   ]
  },
  {
   "cell_type": "code",
   "execution_count": 22,
   "id": "25b12506",
   "metadata": {},
   "outputs": [
    {
     "name": "stdout",
     "output_type": "stream",
     "text": [
      "Churn ratio for customers with a credit card:\n",
      "0    5630\n",
      "1    1425\n",
      "Name: Exited, dtype: int64\n",
      "\n",
      "Churn ratio for customers without a credit card:\n",
      "0    2332\n",
      "1     613\n",
      "Name: Exited, dtype: int64\n"
     ]
    }
   ],
   "source": [
    "# Churn ratio for customers who have a credit card\n",
    "new_df_with_cc = df[df['HasCrCard'] == 1]\n",
    "churn_with_cc = new_df_with_cc['Exited'].value_counts()\n",
    "\n",
    "# Churn ratio for customers who do not have a credit card\n",
    "new_df_without_cc = df[df['HasCrCard'] == 0]\n",
    "churn_without_cc = new_df_without_cc['Exited'].value_counts()\n",
    "\n",
    "print(f\"Churn ratio for customers with a credit card:\\n{churn_with_cc}\")\n",
    "print()\n",
    "print(f\"Churn ratio for customers without a credit card:\\n{churn_without_cc}\")"
   ]
  },
  {
   "cell_type": "markdown",
   "id": "e1b985c8",
   "metadata": {},
   "source": [
    "### Analyze how churn varies across different geographies and active membership statuses."
   ]
  },
  {
   "cell_type": "code",
   "execution_count": 28,
   "id": "1e0376ef",
   "metadata": {},
   "outputs": [
    {
     "data": {
      "text/html": [
       "<div>\n",
       "<style scoped>\n",
       "    .dataframe tbody tr th:only-of-type {\n",
       "        vertical-align: middle;\n",
       "    }\n",
       "\n",
       "    .dataframe tbody tr th {\n",
       "        vertical-align: top;\n",
       "    }\n",
       "\n",
       "    .dataframe thead th {\n",
       "        text-align: right;\n",
       "    }\n",
       "</style>\n",
       "<table border=\"1\" class=\"dataframe\">\n",
       "  <thead>\n",
       "    <tr style=\"text-align: right;\">\n",
       "      <th></th>\n",
       "      <th>Inactive_Members_Churn_Rate</th>\n",
       "      <th>Active_Members_Churn_Rate</th>\n",
       "    </tr>\n",
       "    <tr>\n",
       "      <th>Geography</th>\n",
       "      <th></th>\n",
       "      <th></th>\n",
       "    </tr>\n",
       "  </thead>\n",
       "  <tbody>\n",
       "    <tr>\n",
       "      <th>France</th>\n",
       "      <td>21.172101</td>\n",
       "      <td>11.501351</td>\n",
       "    </tr>\n",
       "    <tr>\n",
       "      <th>Germany</th>\n",
       "      <td>41.078509</td>\n",
       "      <td>23.717949</td>\n",
       "    </tr>\n",
       "    <tr>\n",
       "      <th>Spain</th>\n",
       "      <td>23.347639</td>\n",
       "      <td>10.746951</td>\n",
       "    </tr>\n",
       "  </tbody>\n",
       "</table>\n",
       "</div>"
      ],
      "text/plain": [
       "           Inactive_Members_Churn_Rate  Active_Members_Churn_Rate\n",
       "Geography                                                        \n",
       "France                       21.172101                  11.501351\n",
       "Germany                      41.078509                  23.717949\n",
       "Spain                        23.347639                  10.746951"
      ]
     },
     "execution_count": 28,
     "metadata": {},
     "output_type": "execute_result"
    }
   ],
   "source": [
    "churn_pivot = df.pivot_table(index='Geography', \n",
    "                                    columns='IsActiveMember', \n",
    "                                    values='Exited',\n",
    "                                   aggfunc='mean')\n",
    "churn_pivot.columns = ['Inactive_Members_Churn_Rate','Active_Members_Churn_Rate']\n",
    "churn_pivot *= 100\n",
    "churn_pivot"
   ]
  },
  {
   "cell_type": "code",
   "execution_count": 55,
   "id": "3047f72b",
   "metadata": {},
   "outputs": [
    {
     "data": {
      "text/plain": [
       "<seaborn.axisgrid.FacetGrid at 0x1dca6ccd330>"
      ]
     },
     "execution_count": 55,
     "metadata": {},
     "output_type": "execute_result"
    },
    {
     "data": {
      "image/png": "[encoded data removed]",
      "text/plain": [
       "<Figure size 658.875x300 with 2 Axes>"
      ]
     },
     "metadata": {},
     "output_type": "display_data"
    }
   ],
   "source": [
    "sns.catplot(\n",
    "    x=\"Geography\", hue=\"Exited\", col=\"IsActiveMember\", \n",
    "    data=df, kind=\"count\", height=3, aspect=1\n",
    ")"
   ]
  },
  {
   "cell_type": "markdown",
   "id": "16dfa86d",
   "metadata": {},
   "source": [
    "### Does having a low satisfaction score increase the churn rate? Analyze the relationship between customer satisfaction scores and churn."
   ]
  },
  {
   "cell_type": "code",
   "execution_count": 39,
   "id": "716918e9",
   "metadata": {},
   "outputs": [
    {
     "name": "stdout",
     "output_type": "stream",
     "text": [
      "                    Churn_Rate\n",
      "Satisfaction Score            \n",
      "1                    20.031056\n",
      "2                    21.797418\n",
      "3                    19.637610\n",
      "4                    20.617530\n",
      "5                    19.810379\n"
     ]
    }
   ],
   "source": [
    "churn_ratio = df.pivot_table(index='Satisfaction Score', values='Exited', aggfunc='mean')*100\n",
    "churn_ratio.columns = ['Churn_Rate']\n",
    "print(churn_ratio)"
   ]
  },
  {
   "cell_type": "code",
   "execution_count": 41,
   "id": "8cb32646",
   "metadata": {},
   "outputs": [
    {
     "data": {
      "text/plain": [
       "<Axes: xlabel='Satisfaction Score', ylabel='count'>"
      ]
     },
     "execution_count": 41,
     "metadata": {},
     "output_type": "execute_result"
    },
    {
     "data": {
      "image/png": "[encoded data removed]",
      "text/plain": [
       "<Figure size 640x480 with 1 Axes>"
      ]
     },
     "metadata": {},
     "output_type": "display_data"
    }
   ],
   "source": [
    "sns.countplot(x='Satisfaction Score', hue='Exited', data=df)  "
   ]
  },
  {
   "cell_type": "markdown",
   "id": "a7b9e8bd",
   "metadata": {},
   "source": [
    "### Does having a high credit score reduce the likelihood of customer churn?"
   ]
  },
  {
   "cell_type": "code",
   "execution_count": 63,
   "id": "6877620a",
   "metadata": {},
   "outputs": [],
   "source": [
    "def categorize_credit_score(score):\n",
    "    \n",
    "    if score <= 500:\n",
    "        return 'Low'\n",
    "    elif score > 500 and score <= 750:\n",
    "        return 'Medium'\n",
    "    else:\n",
    "        return 'High'"
   ]
  },
  {
   "cell_type": "code",
   "execution_count": 64,
   "id": "61655f72",
   "metadata": {},
   "outputs": [],
   "source": [
    "df['Credit_Score_Category'] = df['CreditScore'].apply(categorize_credit_score)"
   ]
  },
  {
   "cell_type": "code",
   "execution_count": 67,
   "id": "6e124ad1",
   "metadata": {},
   "outputs": [
    {
     "name": "stdout",
     "output_type": "stream",
     "text": [
      "Credit_Score_Category\n",
      "High      19.649562\n",
      "Low       23.639191\n",
      "Medium    20.260343\n",
      "Name: Exited, dtype: float64\n"
     ]
    }
   ],
   "source": [
    "churn_by_credit = df.groupby('Credit_Score_Category')['Exited'].mean()*100\n",
    "print(churn_by_credit)"
   ]
  },
  {
   "cell_type": "code",
   "execution_count": 66,
   "id": "6066be1b",
   "metadata": {},
   "outputs": [
    {
     "data": {
      "text/plain": [
       "<Axes: xlabel='Credit_Score_Category', ylabel='count'>"
      ]
     },
     "execution_count": 66,
     "metadata": {},
     "output_type": "execute_result"
    },
    {
     "data": {
      "image/png": "[encoded data removed]",
      "text/plain": [
       "<Figure size 640x480 with 1 Axes>"
      ]
     },
     "metadata": {},
     "output_type": "display_data"
    }
   ],
   "source": [
    "sns.countplot(x='Credit_Score_Category', hue='Exited', data=df)"
   ]
  },
  {
   "cell_type": "markdown",
   "id": "973712f7",
   "metadata": {},
   "source": [
    "##  Key Insights :"
   ]
  },
  {
   "cell_type": "markdown",
   "id": "bc6bbf68",
   "metadata": {},
   "source": [
    "#### 1. Churn Trends by Geography\n",
    "Germany has the highest churn rate, while France and Spain show relatively lower churn.\n",
    "Active members churn significantly less across all regions, emphasizing the need for customer engagement strategies."
   ]
  },
  {
   "cell_type": "markdown",
   "id": "499b10c1",
   "metadata": {},
   "source": [
    "#### 2. Credit Score & Churn Behavior\n",
    "Customers with higher credit scores are less likely to churn.\n",
    "Low and medium credit score customers exhibit higher churn, possibly due to financial instability or credit risks.\n",
    "Offering loyalty benefits and customized financial solutions to these groups could improve retention.\n"
   ]
  },
  {
   "cell_type": "markdown",
   "id": "5cb2174d",
   "metadata": {},
   "source": [
    "#### 3. Active Membership’s Impact on Retention\n",
    "Inactive members have a much higher churn rate than active members.\n",
    "Encouraging customer interaction through personalized offers, engagement campaigns, and rewards could increase retention.\n"
   ]
  },
  {
   "cell_type": "markdown",
   "id": "2ed3467f",
   "metadata": {},
   "source": [
    "#### 4. Gender-Based Churn Trends\n",
    "Female customers have a higher churn rate than male customers.\n",
    "Understanding the specific needs of female customers and offering targeted financial products could improve retention.\n"
   ]
  },
  {
   "cell_type": "markdown",
   "id": "2a4133c8",
   "metadata": {},
   "source": [
    "### Business Recommendations:"
   ]
  },
  {
   "cell_type": "markdown",
   "id": "f674d54c",
   "metadata": {},
   "source": [
    "#### 1. Boost customer engagement\n",
    "Target inactive members with personalized services, offers, and loyalty programs.\n"
   ]
  },
  {
   "cell_type": "markdown",
   "id": "5735e5a5",
   "metadata": {},
   "source": [
    "#### 2. Encourage financial stability \n",
    "Offer special benefits to customers with lower credit scores or low account balances.\n"
   ]
  },
  {
   "cell_type": "markdown",
   "id": "40aea729",
   "metadata": {},
   "source": [
    "#### 3. Develop gender-specific strategies\n",
    "Analyze and address the specific needs of female customers.\n"
   ]
  },
  {
   "cell_type": "markdown",
   "id": "4fa2065d",
   "metadata": {},
   "source": [
    "#### 4. Improve customer satisfaction\n",
    "Address complaints proactively, offer better support, and personalize banking services.\n"
   ]
  },
  {
   "cell_type": "markdown",
   "id": "1c1e60cf",
   "metadata": {},
   "source": [
    "#### 5. Reward long-term customers \n",
    "Implement retention programs for long-tenured customers to reinforce loyalty."
   ]
  }
 ],
 "metadata": {
  "kernelspec": {
   "display_name": "Python 3 (ipykernel)",
   "language": "python",
   "name": "python3"
  },
  "language_info": {
   "codemirror_mode": {
    "name": "ipython",
    "version": 3
   },
   "file_extension": ".py",
   "mimetype": "text/x-python",
   "name": "python",
   "nbconvert_exporter": "python",
   "pygments_lexer": "ipython3",
   "version": "3.10.9"
  }
 },
 "nbformat": 4,
 "nbformat_minor": 5
}
